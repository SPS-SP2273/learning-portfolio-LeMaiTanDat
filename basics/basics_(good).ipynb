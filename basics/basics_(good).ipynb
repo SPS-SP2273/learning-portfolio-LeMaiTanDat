{
 "cells": [
  {
   "cell_type": "markdown",
   "id": "123456",
   "metadata": {},
   "source": [
    "<div style=\"text-align:left;font-size:2em\"><span style=\"font-weight:bolder;font-size:1.25em\">SP2273 | Learning Portfolio</span><br><br><span style=\"font-weight:bold;color:darkred\">Basics (Good)</span></div>"
   ]
  },
  {
   "cell_type": "markdown",
   "id": "004acb21",
   "metadata": {},
   "source": [
    "## 1 More Python Basics"
   ]
  },
  {
   "cell_type": "markdown",
   "id": "b8fbe1a6",
   "metadata": {},
   "source": [
    "### 1.1 Computers read = from Right to Left!"
   ]
  },
  {
   "cell_type": "code",
   "execution_count": null,
   "id": "0665dd0f",
   "metadata": {},
   "outputs": [],
   "source": [
    "\n",
    "x = 40\n",
    "y = x + 2 \n",
    "#For the latter line of code, Python adds 2 to x before assigning the value to y\n",
    "\n",
    "y = 40\n",
    "y = y + 2\n",
    "print(y)\n",
    "#These lines of codes work in Python, but not in Maths\n",
    "\n",
    "x = y = 10\n",
    "#Python also allows this\n"
   ]
  },
  {
   "cell_type": "markdown",
   "id": "9d482a3b",
   "metadata": {},
   "source": [
    "### 1.2 Shorter and cleaner"
   ]
  },
  {
   "cell_type": "code",
   "execution_count": 2,
   "id": "1c96e90e",
   "metadata": {},
   "outputs": [
    {
     "data": {
      "text/plain": [
       "38"
      ]
     },
     "execution_count": 2,
     "metadata": {},
     "output_type": "execute_result"
    }
   ],
   "source": [
    "\n",
    "#We can use += to make increment shorter, -=, *=, /= also work\n",
    "y = 40\n",
    "y += 2    # Same as y = y + 2\n",
    "y\n"
   ]
  },
  {
   "cell_type": "code",
   "execution_count": 3,
   "id": "4811d348",
   "metadata": {},
   "outputs": [
    {
     "data": {
      "text/plain": [
       "38"
      ]
     },
     "execution_count": 3,
     "metadata": {},
     "output_type": "execute_result"
    }
   ],
   "source": [
    "y = 40\n",
    "y -= 2     # Same as y = y - 2\n",
    "y"
   ]
  },
  {
   "cell_type": "code",
   "execution_count": 26,
   "id": "bf0e3098",
   "metadata": {},
   "outputs": [
    {
     "data": {
      "text/plain": [
       "80"
      ]
     },
     "execution_count": 26,
     "metadata": {},
     "output_type": "execute_result"
    }
   ],
   "source": [
    "y = 40\n",
    "y *= 2\n",
    "y"
   ]
  },
  {
   "cell_type": "code",
   "execution_count": 27,
   "id": "44a4a023",
   "metadata": {},
   "outputs": [
    {
     "data": {
      "text/plain": [
       "20.0"
      ]
     },
     "execution_count": 27,
     "metadata": {},
     "output_type": "execute_result"
    }
   ],
   "source": [
    "y = 40\n",
    "y /= 2\n",
    "y"
   ]
  },
  {
   "cell_type": "markdown",
   "id": "4b48f33d",
   "metadata": {},
   "source": [
    "### 1.3 Asking questions"
   ]
  },
  {
   "cell_type": "code",
   "execution_count": 30,
   "id": "c2ab242f",
   "metadata": {},
   "outputs": [
    {
     "data": {
      "text/plain": [
       "True"
      ]
     },
     "execution_count": 30,
     "metadata": {},
     "output_type": "execute_result"
    }
   ],
   "source": [
    "\n",
    "fruits = [\"apple\", \"banana\", \"pineapple\", \"jackfruit\"]\n",
    "vegetables = [\"celery\", \"potato\", \"broccoli\", \"kale\"]\n",
    "\n",
    "\"apple\" in fruits\n",
    "\"peach\" in fruits\n",
    "\"peach\" not in fruits\n",
    "(\"apple\" in fruits) and (\"celery\" in vegetables)\n",
    "(\"apple\" in fruits) or (\"celery\" in vegetables)\n"
   ]
  },
  {
   "cell_type": "markdown",
   "id": "c2a345d4",
   "metadata": {},
   "source": [
    "|**Question/Condition**|**Math symbols**|**Python symbols**|\n",
    "|:---------------------|:--------------:|-----------------:|\n",
    "|Equals?               |      =         |       ==         |\n",
    "|Not equal?            |      ≠         |       !=         |\n",
    "|Less than?            |      <         |       <          |\n",
    "|Greater than?         |      >         |       >          |\n",
    "|Less than or equal?   |      ≤         |       <=         |\n",
    "|Greater than or equal?|      ≥         |       >=         |"
   ]
  },
  {
   "cell_type": "markdown",
   "id": "b4bdba4d",
   "metadata": {},
   "source": [
    "\n",
    "### 1.4 There is more to if"
   ]
  },
  {
   "cell_type": "code",
   "execution_count": 31,
   "id": "f1b9a733",
   "metadata": {},
   "outputs": [
    {
     "name": "stdout",
     "output_type": "stream",
     "text": [
      "Hello Hero | Batman!\n"
     ]
    }
   ],
   "source": [
    "\n",
    "name = 'Batman'\n",
    "\n",
    "if name == 'Batman':\n",
    "    print('Hello Hero | Batman!')\n",
    "elif name == 'Robin':\n",
    "    print('Hello Sidekick | Robin!')\n",
    "else:\n",
    "    print('Hello World!')\n"
   ]
  },
  {
   "cell_type": "markdown",
   "id": "c599fe45",
   "metadata": {},
   "source": [
    "### 1.5 Python stores information in different formats or types."
   ]
  },
  {
   "cell_type": "code",
   "execution_count": 32,
   "id": "1066764f",
   "metadata": {},
   "outputs": [
    {
     "name": "stdout",
     "output_type": "stream",
     "text": [
      "1 <class 'int'>\n"
     ]
    }
   ],
   "source": [
    "\n",
    "x = int(1.234)\n",
    "print(x, type(x))\n",
    "\n"
   ]
  },
  {
   "cell_type": "code",
   "execution_count": 33,
   "id": "535670be",
   "metadata": {},
   "outputs": [
    {
     "name": "stdout",
     "output_type": "stream",
     "text": [
      "1.234 <class 'str'>\n"
     ]
    }
   ],
   "source": [
    "x = str(1.234)\n",
    "print(x, type(x))"
   ]
  },
  {
   "cell_type": "code",
   "execution_count": 34,
   "id": "0abe4a31",
   "metadata": {},
   "outputs": [
    {
     "name": "stdout",
     "output_type": "stream",
     "text": [
      "1.234 <class 'float'>\n"
     ]
    }
   ],
   "source": [
    "x = float(1.234)\n",
    "print(x, type(x))"
   ]
  },
  {
   "cell_type": "code",
   "execution_count": 35,
   "id": "f43f4354",
   "metadata": {},
   "outputs": [
    {
     "name": "stdout",
     "output_type": "stream",
     "text": [
      "(1.234+0j) <class 'complex'>\n"
     ]
    }
   ],
   "source": [
    "x = complex(1.234)\n",
    "print(x, type(x))"
   ]
  },
  {
   "cell_type": "code",
   "execution_count": 36,
   "id": "ad1ee0cf",
   "metadata": {},
   "outputs": [
    {
     "name": "stdout",
     "output_type": "stream",
     "text": [
      "1.234 <class 'str'>\n",
      "1.234 <class 'float'>\n"
     ]
    }
   ],
   "source": [
    "x = '1.234'\n",
    "print(x, type(x))\n",
    "x = float(x)\n",
    "print(x, type(x))"
   ]
  },
  {
   "cell_type": "markdown",
   "id": "8b7265e2",
   "metadata": {},
   "source": [
    "### 1.6 Combining English and variables"
   ]
  },
  {
   "cell_type": "code",
   "execution_count": 37,
   "id": "73ef9c71",
   "metadata": {},
   "outputs": [
    {
     "name": "stdout",
     "output_type": "stream",
     "text": [
      "Hello Batman\n"
     ]
    }
   ],
   "source": [
    "name = \"Batman\"\n",
    "print(f\"Hello {name}\")"
   ]
  },
  {
   "cell_type": "code",
   "execution_count": 38,
   "id": "f78d4c5c",
   "metadata": {},
   "outputs": [
    {
     "name": "stdout",
     "output_type": "stream",
     "text": [
      "Hello BATMAN\n"
     ]
    }
   ],
   "source": [
    "name = \"Batman\"\n",
    "print(f\"Hello {name.upper()}\")\n"
   ]
  },
  {
   "cell_type": "code",
   "execution_count": 40,
   "id": "6abce281",
   "metadata": {},
   "outputs": [
    {
     "name": "stdout",
     "output_type": "stream",
     "text": [
      "The value of 10 squared is 100!\n"
     ]
    }
   ],
   "source": [
    "x = 10\n",
    "print(f\"The value of {x} squared is {x**2}!\")"
   ]
  },
  {
   "cell_type": "code",
   "execution_count": 44,
   "id": "baa05607",
   "metadata": {},
   "outputs": [
    {
     "name": "stdout",
     "output_type": "stream",
     "text": [
      "Bruce Wayne is Batman.\n",
      "        Bruce Wayne is Batman.\n",
      "    Bruce Wayne is Batman.    \n",
      "Bruce Wayne is Batman.        \n"
     ]
    }
   ],
   "source": [
    "text = \"Bruce Wayne is Batman.\"\n",
    "print(f\"{text}\")\n",
    "\n",
    "print(f\"{text:>30}\") #print a block of 30 characters aligned right\n",
    "print(f\"{text:^30}\") #print a block of 30 characters aligned centre\n",
    "print(f\"{text:<30}\") #print a block of 30 characters aligned left\n"
   ]
  },
  {
   "cell_type": "code",
   "execution_count": 45,
   "id": "4e23b55b",
   "metadata": {},
   "outputs": [
    {
     "name": "stdout",
     "output_type": "stream",
     "text": [
      "The cube of pi to 6 decimal places is 31.006277\n",
      "The cube of pi to 6 decimal places is 3.100628e+01\n"
     ]
    }
   ],
   "source": [
    "print(f'The cube of pi to 6 decimal places is {np.pi**3:.6f}') #only take 6 decimal phase\n",
    "print(f'The cube of pi to 6 decimal places is {np.pi**3:.6e}') #same as above but in scientific notation"
   ]
  },
  {
   "cell_type": "markdown",
   "id": "c4c4b2a3",
   "metadata": {},
   "source": [
    "### 1.7 Python can be a prima-donna."
   ]
  },
  {
   "cell_type": "code",
   "execution_count": 46,
   "id": "ec1adc74",
   "metadata": {},
   "outputs": [],
   "source": [
    "\n",
    "#When Python gives a long error message, the problem usually lie in the end of the message. But it is better to trace the message error. This is called debugging and very important in programming."
   ]
  },
  {
   "cell_type": "markdown",
   "id": "794da781",
   "metadata": {},
   "source": [
    "## 2 Best Practices for Scientific Computing"
   ]
  },
  {
   "cell_type": "markdown",
   "id": "71567b0b",
   "metadata": {},
   "source": [
    "### 2.1 Some tips"
   ]
  },
  {
   "cell_type": "markdown",
   "id": "cd87e186",
   "metadata": {},
   "source": [
    "\n",
    "1. Write programmes for people, not computers.\n",
    "2. Optimise software only after it work correctly.\n",
    "3. Document design and purpose, not mechanics.\n",
    "4. Collaborate.\n"
   ]
  },
  {
   "cell_type": "markdown",
   "id": "9168ddc8",
   "metadata": {},
   "source": [
    "### 2.2 Getting help."
   ]
  },
  {
   "cell_type": "markdown",
   "id": "b9d43f93",
   "metadata": {},
   "source": [
    "\n",
    "We can get help online through forums such as stack overflow or Python documents with help() function."
   ]
  },
  {
   "cell_type": "code",
   "execution_count": 47,
   "id": "56e9179c",
   "metadata": {},
   "outputs": [
    {
     "name": "stdout",
     "output_type": "stream",
     "text": [
      "Help on built-in function print in module builtins:\n",
      "\n",
      "print(...)\n",
      "    print(value, ..., sep=' ', end='\\n', file=sys.stdout, flush=False)\n",
      "    \n",
      "    Prints the values to a stream, or to sys.stdout by default.\n",
      "    Optional keyword arguments:\n",
      "    file:  a file-like object (stream); defaults to the current sys.stdout.\n",
      "    sep:   string inserted between values, default a space.\n",
      "    end:   string appended after the last value, default a newline.\n",
      "    flush: whether to forcibly flush the stream.\n",
      "\n"
     ]
    }
   ],
   "source": [
    "help(print)"
   ]
  },
  {
   "cell_type": "markdown",
   "id": "bbe98393",
   "metadata": {},
   "source": [
    "## Exercise 1 :  Bias for some heroes"
   ]
  },
  {
   "cell_type": "code",
   "execution_count": 50,
   "id": "637e802e",
   "metadata": {
    "code_folding": []
   },
   "outputs": [
    {
     "name": "stdout",
     "output_type": "stream",
     "text": [
      "Hello BATMAN!\n",
      "Hello BLACK WIDOW!\n",
      "Hello aqua man!\n",
      "Hello BATMAN!\n",
      "Hello BLACK WIDOW!\n",
      "Hello aqua man!\n"
     ]
    }
   ],
   "source": [
    "\n",
    "\n",
    "\n",
    "def hello(name):\n",
    "    if name == \"Batman\" or name == \"Black Widow\":\n",
    "        print(f\"Hello {name.upper()}!\")\n",
    "    else:\n",
    "        print(f\"Hello {name.lower()}!\")\n",
    "        \n",
    "hello(\"Batman\")\n",
    "hello(\"Black Widow\")\n",
    "hello(\"Aqua Man\")\n",
    "\n",
    "\n",
    "def hello(name):\n",
    "    if name == \"Batman\":\n",
    "        print(f\"Hello {name.upper()}!\")\n",
    "    elif name == \"Black Widow\":\n",
    "        print(f\"Hello {name.upper()}!\")    \n",
    "    else:\n",
    "        print(f\"Hello {name.lower()}!\")\n",
    "        \n",
    "hello(\"Batman\")\n",
    "hello(\"Black Widow\")\n",
    "hello(\"Aqua Man\")\n",
    "\n"
   ]
  },
  {
   "cell_type": "markdown",
   "id": "7654e15b",
   "metadata": {},
   "source": [
    "## Exercise 2 :  Bias for some heroes, continues"
   ]
  },
  {
   "cell_type": "code",
   "execution_count": 51,
   "id": "43617790",
   "metadata": {},
   "outputs": [
    {
     "name": "stdout",
     "output_type": "stream",
     "text": [
      "Hello BATMAN!\n",
      "Hello BLACK WIDOW!\n",
      "Hello BATMAN!\n",
      "Hello aqua man!\n",
      "Hello BATMAN!\n",
      "Hello batmann!\n"
     ]
    }
   ],
   "source": [
    "\n",
    "\n",
    "\n",
    "def hello(name):\n",
    "    name = name.lower()\n",
    "    if name == \"batman\" or name == \"black widow\":\n",
    "        print(f\"Hello {name.upper()}!\")\n",
    "    else:\n",
    "        print(f\"Hello {name.lower()}!\")\n",
    "\n",
    "hello(\"Batman\")\n",
    "hello(\"Black Widow\")\n",
    "hello(\"batmaN\")\n",
    "hello(\"Aqua Man\")\n",
    "hello(\"BaTMAN\")\n",
    "hello(\"BaTMaNN\")\n",
    "\n",
    "        \n",
    "\n",
    "\n"
   ]
  },
  {
   "cell_type": "markdown",
   "id": "0b185b96",
   "metadata": {},
   "source": [
    "## Exercise 3 :  Look for help to replace"
   ]
  },
  {
   "cell_type": "code",
   "execution_count": 54,
   "id": "0653788a",
   "metadata": {},
   "outputs": [
    {
     "name": "stdout",
     "output_type": "stream",
     "text": [
      "The Batman lives in Gotham City.\n"
     ]
    }
   ],
   "source": [
    "\n",
    "\n",
    "\n",
    "Joker = 'The Joker lives in Gotham City.'\n",
    "Batman = say.replace(\"Joker\", \"Batman\")\n",
    "print(Batman)\n",
    "\n",
    "\n"
   ]
  }
 ],
 "metadata": {
  "kernelspec": {
   "display_name": "Python 3 (ipykernel)",
   "language": "python",
   "name": "python3"
  },
  "language_info": {
   "codemirror_mode": {
    "name": "ipython",
    "version": 3
   },
   "file_extension": ".py",
   "mimetype": "text/x-python",
   "name": "python",
   "nbconvert_exporter": "python",
   "pygments_lexer": "ipython3",
   "version": "3.10.8"
  },
  "toc": {
   "base_numbering": 1,
   "nav_menu": {},
   "number_sections": true,
   "sideBar": true,
   "skip_h1_title": false,
   "title_cell": "Table of Contents",
   "title_sidebar": "Contents",
   "toc_cell": false,
   "toc_position": {},
   "toc_section_display": true,
   "toc_window_display": false
  },
  "varInspector": {
   "cols": {
    "lenName": 16,
    "lenType": 16,
    "lenVar": 40
   },
   "kernels_config": {
    "python": {
     "delete_cmd_postfix": "",
     "delete_cmd_prefix": "del ",
     "library": "var_list.py",
     "varRefreshCmd": "print(var_dic_list())"
    },
    "r": {
     "delete_cmd_postfix": ") ",
     "delete_cmd_prefix": "rm(",
     "library": "var_list.r",
     "varRefreshCmd": "cat(var_dic_list()) "
    }
   },
   "types_to_exclude": [
    "module",
    "function",
    "builtin_function_or_method",
    "instance",
    "_Feature"
   ],
   "window_display": false
  },
  "vscode": {
   "interpreter": {
    "hash": "31f2aee4e71d21fbe5cf8b01ff0e069b9275f58929596ceb00d14d90e3e16cd6"
   }
  }
 },
 "nbformat": 4,
 "nbformat_minor": 5
}
