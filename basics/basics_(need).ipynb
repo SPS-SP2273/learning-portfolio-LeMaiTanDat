{
 "cells": [
  {
   "cell_type": "markdown",
   "id": "123456",
   "metadata": {},
   "source": [
    "<div style=\"text-align:left;font-size:2em\"><span style=\"font-weight:bolder;font-size:1.25em\">SP2273 | Learning Portfolio</span><br><br><span style=\"font-weight:bold;color:darkred\">Basics (Need)</span></div>"
   ]
  },
  {
   "cell_type": "markdown",
   "id": "3fe3357e",
   "metadata": {},
   "source": [
    "## 1 Some Python Basics"
   ]
  },
  {
   "cell_type": "markdown",
   "id": "cf4bd6f7",
   "metadata": {},
   "source": [
    "### 1.1 Functions"
   ]
  },
  {
   "cell_type": "code",
   "execution_count": 1,
   "id": "69d7d74f",
   "metadata": {},
   "outputs": [
    {
     "name": "stdout",
     "output_type": "stream",
     "text": [
      "Hello World!\n"
     ]
    }
   ],
   "source": [
    "\n",
    "print(\"Hello World!\")\n"
   ]
  },
  {
   "cell_type": "markdown",
   "id": "6e3b1bc2",
   "metadata": {},
   "source": [
    "### 1.2 Python is interpreted"
   ]
  },
  {
   "cell_type": "code",
   "execution_count": 2,
   "id": "cdf4566d",
   "metadata": {},
   "outputs": [
    {
     "name": "stdout",
     "output_type": "stream",
     "text": [
      "Hello World\n",
      "Hello World again\n"
     ]
    }
   ],
   "source": [
    "\n",
    "print(\"Hello World\")\n",
    "print(\"Hello World again\")\n"
   ]
  },
  {
   "cell_type": "markdown",
   "id": "a090029a",
   "metadata": {},
   "source": [
    "### 1.3 Python is sensitive."
   ]
  },
  {
   "cell_type": "code",
   "execution_count": 3,
   "id": "4683e7fc",
   "metadata": {},
   "outputs": [
    {
     "name": "stdout",
     "output_type": "stream",
     "text": [
      "Hello World\n"
     ]
    },
    {
     "ename": "NameError",
     "evalue": "name 'Print' is not defined",
     "output_type": "error",
     "traceback": [
      "\u001b[0;31m---------------------------------------------------------------------------\u001b[0m",
      "\u001b[0;31mNameError\u001b[0m                                 Traceback (most recent call last)",
      "Cell \u001b[0;32mIn[3], line 2\u001b[0m\n\u001b[1;32m      1\u001b[0m \u001b[38;5;28mprint\u001b[39m(\u001b[38;5;124m\"\u001b[39m\u001b[38;5;124mHello World\u001b[39m\u001b[38;5;124m\"\u001b[39m)  \u001b[38;5;66;03m#This works\u001b[39;00m\n\u001b[0;32m----> 2\u001b[0m \u001b[43mPrint\u001b[49m(\u001b[38;5;124m\"\u001b[39m\u001b[38;5;124mHello World\u001b[39m\u001b[38;5;124m\"\u001b[39m)  \u001b[38;5;66;03m#This wouldn't work\u001b[39;00m\n",
      "\u001b[0;31mNameError\u001b[0m: name 'Print' is not defined"
     ]
    }
   ],
   "source": [
    "\n",
    "print(\"Hello World\")  #This works\n",
    "Print(\"Hello World\")  #This wouldn't work\n"
   ]
  },
  {
   "cell_type": "markdown",
   "id": "ceea7b4b",
   "metadata": {},
   "source": [
    "### 1.4 Comments"
   ]
  },
  {
   "cell_type": "code",
   "execution_count": null,
   "id": "6352e3b2",
   "metadata": {},
   "outputs": [],
   "source": [
    "\n",
    "#This is a comment\n",
    "##This is also a comment\n"
   ]
  },
  {
   "cell_type": "markdown",
   "id": "27fefcff",
   "metadata": {},
   "source": [
    "### 1.5 = is not the same as =="
   ]
  },
  {
   "cell_type": "code",
   "execution_count": 4,
   "id": "7d383bc5",
   "metadata": {},
   "outputs": [
    {
     "data": {
      "text/plain": [
       "True"
      ]
     },
     "execution_count": 4,
     "metadata": {},
     "output_type": "execute_result"
    }
   ],
   "source": [
    "\n",
    "name = \"Batman\" ##assign the string \"Batman\" to variable \"name\"\n",
    "name == \"Batman\"  ##verify if the value of name is equal to the string \"Batman\"\n"
   ]
  },
  {
   "cell_type": "markdown",
   "id": "1d181dff",
   "metadata": {},
   "source": [
    "### 1.6 Use if to make decisions"
   ]
  },
  {
   "cell_type": "code",
   "execution_count": 1,
   "id": "3100d7a7",
   "metadata": {},
   "outputs": [
    {
     "name": "stdout",
     "output_type": "stream",
     "text": [
      "Hello Hero | Batman\n"
     ]
    }
   ],
   "source": [
    "\n",
    "name = \"Batman\"\n",
    "if name==\"Batman\":\n",
    "    print(\"Hello Hero | Batman\")\n",
    "else:\n",
    "    print(\"Hello World\")\n"
   ]
  },
  {
   "cell_type": "markdown",
   "id": "0db94397",
   "metadata": {},
   "source": [
    "### 1.7 Indentations (spaces) are sooo IMPORTANT!"
   ]
  },
  {
   "cell_type": "code",
   "execution_count": 2,
   "id": "71881728",
   "metadata": {},
   "outputs": [
    {
     "ename": "IndentationError",
     "evalue": "unexpected indent (3032638419.py, line 6)",
     "output_type": "error",
     "traceback": [
      "\u001b[0;36m  Cell \u001b[0;32mIn[2], line 6\u001b[0;36m\u001b[0m\n\u001b[0;31m    print(x) #this won't work\u001b[0m\n\u001b[0m    ^\u001b[0m\n\u001b[0;31mIndentationError\u001b[0m\u001b[0;31m:\u001b[0m unexpected indent\n"
     ]
    }
   ],
   "source": [
    "\n",
    "#Python uses indentation to distinguish between layers of code (which codes are nested into which)\n",
    "x = 10\n",
    "print(x) #this would work because print() is in the same layer as assignment code\n",
    "\n",
    "x = 10\n",
    "    print(x) #this won't work\n"
   ]
  },
  {
   "cell_type": "markdown",
   "id": "61ac69e5",
   "metadata": {},
   "source": [
    "### 1.8 ‘age’ is English, age is a variable."
   ]
  },
  {
   "cell_type": "code",
   "execution_count": 3,
   "id": "64ac04c8",
   "metadata": {},
   "outputs": [
    {
     "ename": "NameError",
     "evalue": "name 'age' is not defined",
     "output_type": "error",
     "traceback": [
      "\u001b[0;31m---------------------------------------------------------------------------\u001b[0m",
      "\u001b[0;31mNameError\u001b[0m                                 Traceback (most recent call last)",
      "Cell \u001b[0;32mIn[3], line 1\u001b[0m\n\u001b[0;32m----> 1\u001b[0m \u001b[38;5;28mprint\u001b[39m(\u001b[43mage\u001b[49m)  \u001b[38;5;66;03m#print the variable age\u001b[39;00m\n\u001b[1;32m      2\u001b[0m \u001b[38;5;28mprint\u001b[39m(\u001b[38;5;124m\"\u001b[39m\u001b[38;5;124mage\u001b[39m\u001b[38;5;124m\"\u001b[39m)  \u001b[38;5;66;03m#print the string \"age\"\u001b[39;00m\n\u001b[1;32m      4\u001b[0m \u001b[38;5;66;03m#However, the first line of code would not run because the variable age has not been initiated yet.\u001b[39;00m\n",
      "\u001b[0;31mNameError\u001b[0m: name 'age' is not defined"
     ]
    }
   ],
   "source": [
    "\n",
    "print(age)  #print the variable age\n",
    "print(\"age\")  #print the string \"age\"\n",
    "\n",
    "#However, the first line of code would not run because the variable age has not been initiated yet.\n",
    "age = 10\n",
    "print(age)\n",
    "\n",
    "#In Python, both ' ' and \" \" work but it is better to use \" \" because sometimes we need to use ' as the quote\n",
    "print(\"You're twenty years ago.\")\n"
   ]
  },
  {
   "cell_type": "markdown",
   "id": "557d6d01",
   "metadata": {},
   "source": [
    "### 1.9 Escape sequences"
   ]
  },
  {
   "cell_type": "markdown",
   "id": "f06b3a5c",
   "metadata": {},
   "source": [
    "\n",
    "There are many useful codes for escape sequences:\n",
    "\n",
    "|**Escape sequences**|    **Meaning**     |\n",
    "|:-------------------|-------------------:|\n",
    "|$$        \\'     $$     |Single quote        |\n",
    "|$$        \\\\     $$     |Backslash           |\n",
    "|$$        \\n     $$     |New line            |\n",
    "| $$       \\t     $$     |Horizontal tab      |\n",
    "\n"
   ]
  },
  {
   "cell_type": "code",
   "execution_count": 9,
   "id": "4e7c658e",
   "metadata": {},
   "outputs": [
    {
     "name": "stdout",
     "output_type": "stream",
     "text": [
      "You're twenty years old\n",
      "A\\B\\C\n",
      "A\\B\\C\n",
      "A\n",
      "B\n",
      "C\n",
      "A\tB\tC\n"
     ]
    }
   ],
   "source": [
    "print('You\\'re twenty years old')\n",
    "\n",
    "print('A\\\\B\\\\C')\n",
    "\n",
    "#What is only one slash?\n",
    "print('A\\B\\C') #What's the difference?\n",
    "\n",
    "print('A\\nB\\nC')\n",
    "\n",
    "print('A\\tB\\tC') \n"
   ]
  },
  {
   "cell_type": "markdown",
   "id": "f381a4f7",
   "metadata": {},
   "source": [
    "\n",
    "### 1.10 Brackets"
   ]
  },
  {
   "cell_type": "code",
   "execution_count": 14,
   "id": "f739ade7",
   "metadata": {},
   "outputs": [
    {
     "name": "stdout",
     "output_type": "stream",
     "text": [
      "Hello\n",
      "[1, 2, 3, 4, 5]\n",
      "[[1, 'A'], [2, 'B'], [3, 'C'], [4, 'D'], [5, 'E']]\n",
      "{'Names': 'Batman', 'Real Name': 'Bruce Wayne', 'Age': 55, 'Affiliation': 'Justice League', 'Universe': 'DC'}\n",
      "Bruce Wayne\n"
     ]
    }
   ],
   "source": [
    "\n",
    "#Python uses all kinds of brackets: () for Maths and functions; [] for list of data; {} for dictionary\n",
    "\n",
    "print(\"Hello\")\n",
    "(1+2)*5\n",
    "\n",
    "py_list = [1,2,3,4,5] #1D list\n",
    "py_list_2 = [[1, \"A\"], [2, \"B\"], [3, \"C\"], [4, \"D\"], [5, \"E\"]] #2D list\n",
    "\n",
    "personal_info = {\n",
    "    \"Names\": \"Batman\",\n",
    "    \"Real Name\": \"Bruce Wayne\",\n",
    "    \"Age\": 55,\n",
    "    \"Affiliation\": \"Justice League\",\n",
    "    \"Universe\": \"DC\"\n",
    "}\n",
    "\n",
    "print(py_list)\n",
    "print(py_list_2)\n",
    "print(personal_info)\n",
    "\n",
    "#We can access keys, values, and much more in dictionary\n",
    "print(personal_info[\"Real Name\"])"
   ]
  },
  {
   "cell_type": "markdown",
   "id": "2d042377",
   "metadata": {},
   "source": [
    "## 2 Giving Python superpowers"
   ]
  },
  {
   "cell_type": "markdown",
   "id": "25cb0444",
   "metadata": {},
   "source": [
    "### 2.1 Packages"
   ]
  },
  {
   "cell_type": "code",
   "execution_count": 18,
   "id": "2f302ea0",
   "metadata": {
    "scrolled": false
   },
   "outputs": [
    {
     "data": {
      "text/plain": [
       "array([2., 3., 4.])"
      ]
     },
     "execution_count": 18,
     "metadata": {},
     "output_type": "execute_result"
    }
   ],
   "source": [
    "\n",
    "1 * ((2 - 3) + 4) ** 5 / 6\n",
    "##sqrt(4) #will not work because sqrt is in the math package, need to import\n",
    "\n",
    "import math\n",
    "math.sqrt(4)\n",
    "\n",
    "import numpy as np\n",
    "np.sqrt(4)\n",
    "\n",
    "np.sqrt([4, 9, 16])\n"
   ]
  },
  {
   "cell_type": "markdown",
   "id": "c27ed455",
   "metadata": {},
   "source": [
    "### 2.2 The dot (.)"
   ]
  },
  {
   "cell_type": "code",
   "execution_count": 19,
   "id": "2229f601",
   "metadata": {},
   "outputs": [
    {
     "data": {
      "text/plain": [
       "['I', 'am', 'Batman']"
      ]
     },
     "execution_count": 19,
     "metadata": {},
     "output_type": "execute_result"
    }
   ],
   "source": [
    "\n",
    "#The dot . in Python is used to show ownership\n",
    "math. sqrt (4)\n",
    "np. sqrt (4)\n",
    "\n",
    "\"I am Batman\".split()\n",
    "\n",
    "\n"
   ]
  },
  {
   "cell_type": "markdown",
   "id": "b0529b86",
   "metadata": {},
   "source": [
    "## Exercise 1 :  Total recall?"
   ]
  },
  {
   "cell_type": "markdown",
   "id": "e867e92f",
   "metadata": {},
   "source": [
    "\n",
    "Python is case-sensitive.\n",
    "Python uses indentation to distinguish between blocks of codes.\n",
    "Python can do mathematical computations.\n",
    "Python allows assignment with = and comparision with == or != .\n",
    "We can use functions, loops, conditions, and multiple data structures (list, tuple, dictionary,...) in Python.\n",
    "Python uses dot . to show ownership.\n",
    "Sometimes, we need to import some packages to run Python efficiently (some codes are included in specific packages and cannot be used without importing these packages).\n",
    "Python uses many escape sequences.\n",
    "Python uses different types of brackets for different purposes.\n",
    "\n",
    "*Python is interpreted so if we write code that Python does not understand, it will display an error message.*\n",
    "*Python allows to write comment with #.*\n",
    "*Python distinguishes between variable name and string value.*\n",
    "\n",
    "\n",
    "\n",
    "\n",
    "\n",
    "\n"
   ]
  },
  {
   "cell_type": "markdown",
   "id": "35c51c42",
   "metadata": {},
   "source": [
    "## Exercise 2 :  Debug me"
   ]
  },
  {
   "cell_type": "code",
   "execution_count": 22,
   "id": "a7b153fb",
   "metadata": {},
   "outputs": [
    {
     "name": "stdout",
     "output_type": "stream",
     "text": [
      "3 4 5.0\n"
     ]
    }
   ],
   "source": [
    "\n",
    "\n",
    "from math import sqrt #import package math to use sqrt\n",
    "x, y = 3, 4\n",
    "z = sqrt(x**2 + y**2) #no indentation and the power is ** not *\n",
    "#Can change z to int using z = int(z)\n",
    "print(x, y, z) #no indentation and the p should not be capitalised\n",
    "\n"
   ]
  },
  {
   "cell_type": "markdown",
   "id": "3de39b4c",
   "metadata": {},
   "source": [
    "## Exercise 3 :  In your own words"
   ]
  },
  {
   "cell_type": "markdown",
   "id": "366db9a1",
   "metadata": {},
   "source": [
    "\n",
    "\n",
    "| # | **Term** |         **Description**                     |\n",
    "|:--|:--------:|--------------------------------------------:|\n",
    "| 1 |Function  |A pre-written code that helps us do something|\n",
    "| 2 |Arguments |What we put into the function, input for it  |\n",
    "| 3 |Comments  |A note made by programmers, not executed as code|\n",
    "| 4 |Indentations|A way to distinguish between blocks of codes|\n",
    "| 5 |Packages  |Pre-written library containing some useful codes|\n",
    "| 6 | .        |Used to show ownership                       |\n",
    "\n",
    "\n",
    "\n",
    "\n"
   ]
  },
  {
   "cell_type": "markdown",
   "id": "4330c5b1",
   "metadata": {},
   "source": [
    "## Exercise 4 :  More than one way to divide"
   ]
  },
  {
   "cell_type": "code",
   "execution_count": 23,
   "id": "1028e1ab",
   "metadata": {},
   "outputs": [
    {
     "name": "stdout",
     "output_type": "stream",
     "text": [
      "print the real value of the calculation\n",
      "do the floor division\n",
      "do the modular division\n"
     ]
    }
   ],
   "source": [
    "\n",
    "\n",
    "5/2           # What do I do?\n",
    "print(\"print the real value of the calculation\")\n",
    "\n",
    "5//2          # What do I do?\n",
    "print(\"do the floor division\")\n",
    "\n",
    "5%2           # What do I do?\n",
    "print(\"do the modular division\")\n",
    "\n",
    "\n"
   ]
  }
 ],
 "metadata": {
  "kernelspec": {
   "display_name": "Python 3 (ipykernel)",
   "language": "python",
   "name": "python3"
  },
  "language_info": {
   "codemirror_mode": {
    "name": "ipython",
    "version": 3
   },
   "file_extension": ".py",
   "mimetype": "text/x-python",
   "name": "python",
   "nbconvert_exporter": "python",
   "pygments_lexer": "ipython3",
   "version": "3.10.8"
  },
  "toc": {
   "base_numbering": 1,
   "nav_menu": {},
   "number_sections": true,
   "sideBar": true,
   "skip_h1_title": false,
   "title_cell": "Table of Contents",
   "title_sidebar": "Contents",
   "toc_cell": false,
   "toc_position": {},
   "toc_section_display": true,
   "toc_window_display": false
  },
  "varInspector": {
   "cols": {
    "lenName": 16,
    "lenType": 16,
    "lenVar": 40
   },
   "kernels_config": {
    "python": {
     "delete_cmd_postfix": "",
     "delete_cmd_prefix": "del ",
     "library": "var_list.py",
     "varRefreshCmd": "print(var_dic_list())"
    },
    "r": {
     "delete_cmd_postfix": ") ",
     "delete_cmd_prefix": "rm(",
     "library": "var_list.r",
     "varRefreshCmd": "cat(var_dic_list()) "
    }
   },
   "types_to_exclude": [
    "module",
    "function",
    "builtin_function_or_method",
    "instance",
    "_Feature"
   ],
   "window_display": false
  },
  "vscode": {
   "interpreter": {
    "hash": "31f2aee4e71d21fbe5cf8b01ff0e069b9275f58929596ceb00d14d90e3e16cd6"
   }
  }
 },
 "nbformat": 4,
 "nbformat_minor": 5
}
