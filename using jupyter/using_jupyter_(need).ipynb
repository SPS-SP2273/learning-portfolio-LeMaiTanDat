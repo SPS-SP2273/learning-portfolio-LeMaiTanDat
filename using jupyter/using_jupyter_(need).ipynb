{
 "cells": [
  {
   "cell_type": "markdown",
   "id": "123456",
   "metadata": {},
   "source": [
    "<div style=\"text-align:left;font-size:2em\"><span style=\"font-weight:bolder;font-size:1.25em\">SP2273 | Learning Portfolio</span><br><br><span style=\"font-weight:bold;color:darkred\">Using Jupyter (Need)</span></div>"
   ]
  },
  {
   "cell_type": "markdown",
   "id": "a73a585a",
   "metadata": {},
   "source": [
    "## 1 Getting started with Jupyter"
   ]
  },
  {
   "cell_type": "markdown",
   "id": "45504c61",
   "metadata": {},
   "source": [
    "### 1.1 Its all about running cells"
   ]
  },
  {
   "cell_type": "code",
   "execution_count": 1,
   "id": "02323ed9",
   "metadata": {},
   "outputs": [
    {
     "name": "stdout",
     "output_type": "stream",
     "text": [
      "6\n"
     ]
    }
   ],
   "source": [
    "\n",
    "a = 4\n",
    "b = 2\n",
    "c = a + b\n",
    "print(c)\n"
   ]
  },
  {
   "cell_type": "markdown",
   "id": "9a1a6a7a",
   "metadata": {},
   "source": [
    "### 1.2 A traditional start"
   ]
  },
  {
   "cell_type": "code",
   "execution_count": 2,
   "id": "37b767d5",
   "metadata": {},
   "outputs": [
    {
     "name": "stdout",
     "output_type": "stream",
     "text": [
      "Hello World!\n"
     ]
    }
   ],
   "source": [
    "\n",
    "print(\"Hello World!\")\n"
   ]
  },
  {
   "cell_type": "markdown",
   "id": "1d126b57",
   "metadata": {},
   "source": [
    "## 2 All about Markdown"
   ]
  },
  {
   "cell_type": "markdown",
   "id": "ecacafaa",
   "metadata": {},
   "source": [
    "### 2.1 Rendering Markdown cells"
   ]
  },
  {
   "cell_type": "markdown",
   "id": "81c9d58d",
   "metadata": {},
   "source": [
    "\n",
    "The ships hung in the sky in much the same way that bricks don’t.\n"
   ]
  },
  {
   "cell_type": "markdown",
   "id": "e173e67c",
   "metadata": {},
   "source": [
    "### 2.2 Some basic syntax"
   ]
  },
  {
   "cell_type": "markdown",
   "id": "4dfc814e",
   "metadata": {},
   "source": [
    "\n",
    "The ships *hung in the sky* in much the same way that **bricks don’t.**<sub></sub><sub>QUOTE</sub>\n"
   ]
  },
  {
   "cell_type": "markdown",
   "id": "65723ad6",
   "metadata": {},
   "source": [
    "### 2.3 Headings"
   ]
  },
  {
   "cell_type": "markdown",
   "id": "7d3f2cbc",
   "metadata": {},
   "source": [
    "\n",
    "# The largest heading\n",
    "## The second-largest heading\n",
    "### The third-largest heading\n",
    "###### The smallest heading\n"
   ]
  },
  {
   "cell_type": "markdown",
   "id": "7fc2ee90",
   "metadata": {},
   "source": [
    "### 2.4 Displaying Code"
   ]
  },
  {
   "cell_type": "markdown",
   "id": "71ce5501",
   "metadata": {},
   "source": [
    "\n",
    "`print(\"Hello World!\")`\n",
    "\n",
    "```python3\n",
    "\n"
   ]
  },
  {
   "cell_type": "markdown",
   "id": "174520b7",
   "metadata": {},
   "source": [
    "### 2.5 Links"
   ]
  },
  {
   "cell_type": "markdown",
   "id": "39bbc501",
   "metadata": {},
   "source": [
    "\n",
    "[SP2273 Website](https://sps.nus.edu.sg/sp2273)"
   ]
  },
  {
   "cell_type": "markdown",
   "id": "04421bb5",
   "metadata": {},
   "source": [
    "### 2.6 Images"
   ]
  },
  {
   "cell_type": "markdown",
   "id": "fd80f47a",
   "metadata": {},
   "source": [
    "\n",
    "![](https://www.nus.edu.sg/images/default-source/base/logo.png)\n",
    "\n"
   ]
  },
  {
   "cell_type": "markdown",
   "id": "8840f044",
   "metadata": {},
   "source": [
    "### 2.7 Tables"
   ]
  },
  {
   "cell_type": "markdown",
   "id": "1a47463b",
   "metadata": {},
   "source": [
    "\n",
    "|A   |  B |   C|\n",
    "|:---|:--:|---:|\n",
    "|a1  | b1 |  c1|\n",
    "|a2  | b2 |  c2|\n",
    "|a3  | b3 |  c3|\n"
   ]
  },
  {
   "cell_type": "markdown",
   "id": "0f42fe02",
   "metadata": {},
   "source": [
    "### 2.8 Lists"
   ]
  },
  {
   "cell_type": "markdown",
   "id": "504122a5",
   "metadata": {},
   "source": [
    "\n",
    "1. Master Yoda\n",
    "1. Luke Skywalker\n",
    "1. Anakin Skywalker\n",
    "\n",
    "- Master Yoda\n",
    "- Luke Skywalker\n",
    "- Anakin Skywalker\n",
    "\n",
    "1. Master Yoda\n",
    "   1. Was a Jedi\n",
    "   1. Was a bit green\n",
    "1. Luke Skywalker\n",
    "   1. Was a Jedi\n",
    "   1. Is Anakin's son.\n",
    "1. Anakin Skywalker\n",
    "   1. Was a Jedi then became a baddie\n",
    "   1. Is famous for saying 'Luke, I am your father'\n",
    "   \n",
    "1. Master Yoda\n",
    "   - Was a Jedi\n",
    "   - Was a bit green\n",
    "2. Luke Skywalker\n",
    "   - Was a Jedi\n",
    "   - Is Anakin's son.\n",
    "3. Anakin Skywalker\n",
    "   - Was a Jedi then became a baddie\n",
    "   - Is famous for saying 'Luke, I am your father'\n"
   ]
  },
  {
   "cell_type": "markdown",
   "id": "b81b81d8",
   "metadata": {},
   "source": [
    "### 2.9 Equations"
   ]
  },
  {
   "cell_type": "markdown",
   "id": "23bf89ee",
   "metadata": {},
   "source": [
    "$\\sqrt{b^2-4ac}$\n",
    "\n",
    "$$\n",
    "x = \\dfrac{-b \\pm \\sqrt{b^2-4ac}}{2a}\n",
    "$$\n"
   ]
  },
  {
   "cell_type": "markdown",
   "id": "4404f175",
   "metadata": {},
   "source": [
    "## Exercise 1 :  Put it in Markdown"
   ]
  },
  {
   "cell_type": "markdown",
   "id": "5b32f2ee",
   "metadata": {},
   "source": [
    "\n",
    "#### Quadratic Equations\n",
    "\n",
    "![](https://upload.wikimedia.org/wikipedia/commons/thumb/f/f8/Polynomialdeg2.svg/600px-Polynomialdeg2.svg.png)\n",
    "*(Image from the [Wikipedia page on Quadratic equations](https://en.wikipedia.org/wiki/Quadratic_equation))*\n",
    "\n",
    "#### Introduction\n",
    "The general form of a quadratic equation is:\n",
    "$$\n",
    "ax^2 + bx + c = 0\n",
    "$$\n",
    "\n",
    "**Solutions** Provided $a \\ne b$, we can use an elementary algebraic method called [completeing the square](https://en.wikipedia.org/wiki/Completing_the_square) to show that a quadratic equation has the following solution:\n",
    "$$\n",
    "x = \\dfrac{-b \\pm \\sqrt{b^2 - 4ac}}{2a}\n",
    "$$\n",
    "\n",
    "#### Discriminant\n",
    "The quantity $\\Delta = b^2 - 4ac$ is called the **discriminant** of the equation and decides the nature of its solutions. The table below shows the various possibilities.\n",
    "\n",
    "|        **Discriminat**             |**Roots**                                  |\n",
    "|:-----------------------------------|------------------------------------------:|\n",
    "|$$\\Delta = b^2 - 4ac = 0$$          |A single solution of $-b/(2a)$             | \n",
    "|$\\Delta = b^2 - 4ac \\gt 0$          |Two distinct solutions                     |\n",
    "|$\\Delta = b^2 - 4ac \\lt 0$          |No real solutions; both are complex.       |\n",
    "\n",
    "\n",
    "<!-- Note for myself: We need the $$ sign, otherwise it is considered one sentence as the roots and therefore not align correctly. We can omit the $$ for the next lines because the first line already adjust the column width, now we have enough space for the other lines to spread\n",
    " -->\n",
    "\n",
    "\n"
   ]
  },
  {
   "cell_type": "markdown",
   "id": "8b1be635",
   "metadata": {},
   "source": [
    "## Exercise 2 :  In your own words"
   ]
  },
  {
   "cell_type": "markdown",
   "id": "fc790f41",
   "metadata": {},
   "source": [
    "\n",
    "1. A repository is something that GitHub creates to store our work. Specifically for this module, the repository will be created after we link the GitHub to the 73 GitHub domain, and this will hold my Learning Porfolio.\n",
    "\n",
    "2. GitHub keeps track of **changes** in the files in our repository.\n",
    "\n",
    "3. From my own understanding, a commit is like a description of the changes to the files in the repository.\n",
    "\n",
    "4. A push is to update the changes to the server. It's like the Save button in the Word document. When we make changes to the file, it's just stored in the local memory. After we Push Origin, the changes are updated to the global memory.\n",
    "\n",
    "5. From my own understanding, GitHub desktop is a portable device that allows us to work with GitHub at our own comfort. GitHub is just like a cloud to store the data we need. We can think of GitHub as the Google Drive and GitHub Desktop as our own computer, when we want to use it on other devices, we upload the folder on our laptop to the Google drive, in this case, the GitHub.\n",
    "\n",
    "6. I think it's a pull. I see it on GitHub domain but I do not quite understand what it does.\n",
    "\n",
    "\n"
   ]
  }
 ],
 "metadata": {
  "kernelspec": {
   "display_name": "Python 3 (ipykernel)",
   "language": "python",
   "name": "python3"
  },
  "language_info": {
   "codemirror_mode": {
    "name": "ipython",
    "version": 3
   },
   "file_extension": ".py",
   "mimetype": "text/x-python",
   "name": "python",
   "nbconvert_exporter": "python",
   "pygments_lexer": "ipython3",
   "version": "3.10.8"
  },
  "toc": {
   "base_numbering": 1,
   "nav_menu": {},
   "number_sections": true,
   "sideBar": true,
   "skip_h1_title": false,
   "title_cell": "Table of Contents",
   "title_sidebar": "Contents",
   "toc_cell": false,
   "toc_position": {},
   "toc_section_display": true,
   "toc_window_display": false
  },
  "vscode": {
   "interpreter": {
    "hash": "31f2aee4e71d21fbe5cf8b01ff0e069b9275f58929596ceb00d14d90e3e16cd6"
   }
  }
 },
 "nbformat": 4,
 "nbformat_minor": 5
}
